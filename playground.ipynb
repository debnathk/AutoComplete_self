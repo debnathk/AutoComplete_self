{
 "cells": [
  {
   "cell_type": "code",
   "execution_count": 1,
   "metadata": {},
   "outputs": [],
   "source": [
    "import torch\n",
    "import numpy as np\n",
    "import torch.nn as nn"
   ]
  },
  {
   "cell_type": "code",
   "execution_count": 2,
   "metadata": {},
   "outputs": [],
   "source": [
    "parseFloat = lambda raw: float(raw[0] + '.' + raw[1:])\n",
    "getconf = lambda tags, name: tags.split(name)[1].split('_')[0]"
   ]
  },
  {
   "cell_type": "code",
   "execution_count": null,
   "metadata": {},
   "outputs": [],
   "source": [
    "class AutoComplete(nn.Module):\n",
    "    def __init__(self,\n",
    "            indim = 80, # input dimension\n",
    "            width = 10, # encoding dimention ratio: 10 = x1.0, 20 = x0.5\n",
    "            n_depth = 4, # number of layers between input layer & encoding layer\n",
    "            n_multiples = 0, # repeated layers of same dimension per layer\n",
    "            nonlin = lambda dim: torch.nn.LeakyReLU(inplace=True), # introducing nonlinearity\n",
    "            verbose = False\n",
    "        ):\n",
    "        super().__init__()\n",
    "\n",
    "        outdim = indim\n",
    "\n",
    "        if verbose:\n",
    "            print('WIDTH', width)\n",
    "            print('DEPTH', n_depth)\n",
    "            print('MULT', n_multiples)\n",
    "            print('NONLIN', nonlin)\n",
    "            print('In D', indim)\n",
    "            print('OutD', outdim)\n",
    "\n",
    "        spec = []\n",
    "        zdim = int(indim/width)\n",
    "        zlist = list(np.linspace(indim, zdim, n_depth+1).astype(int))\n",
    "        if verbose: print('Encoding progression:', zlist)\n",
    "\n",
    "        for li in range(n_depth):\n",
    "            dnow = zlist[li]\n",
    "            dnext = zlist[li+1]\n",
    "            spec += [(dnow, dnext)]\n",
    "            if li != n_depth-1:\n",
    "                for mm in range(n_multiples):\n",
    "                    spec += [(dnext, dnext)]\n",
    "\n",
    "        if verbose: print('FC layers spec:', spec)\n",
    "\n",
    "        layers = []\n",
    "        for si, (d1, d2) in enumerate(spec):\n",
    "            layers += [nn.Linear(d1, d2)]\n",
    "            layers += [nonlin(d2)]\n",
    "\n",
    "        for si, (d2, d1) in enumerate(spec[::-1]):\n",
    "            d2 = outdim if si == len(spec)-1 else d2\n",
    "            layers += [nn.Linear(d1, d2)]\n",
    "            if si != len(spec)-1:\n",
    "                layers += [nonlin(d2)]\n",
    "\n",
    "        self.net = nn.Sequential(*layers)\n",
    "\n",
    "        if verbose: print('zdim: ', zlist[-1])\n",
    "\n",
    "    def forward(self, x):\n",
    "        x = self.net(x)\n",
    "        return x\n",
    "\n",
    "        "
   ]
  }
 ],
 "metadata": {
  "kernelspec": {
   "display_name": "Python 3",
   "language": "python",
   "name": "python3"
  },
  "language_info": {
   "codemirror_mode": {
    "name": "ipython",
    "version": 3
   },
   "file_extension": ".py",
   "mimetype": "text/x-python",
   "name": "python",
   "nbconvert_exporter": "python",
   "pygments_lexer": "ipython3",
   "version": "3.7.16"
  },
  "orig_nbformat": 4
 },
 "nbformat": 4,
 "nbformat_minor": 2
}
